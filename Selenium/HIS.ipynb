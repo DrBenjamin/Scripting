{
 "cells": [
  {
   "cell_type": "markdown",
   "metadata": {},
   "source": [
    "to solve this question https://stackoverflow.com/questions/24612626/b-spline-interpolation-with-python/24693358#24693358"
   ]
  },
  {
   "cell_type": "code",
   "execution_count": 1,
   "metadata": {
    "collapsed": false
   },
   "outputs": [],
   "source": [
    "import os\n",
    "\n",
    "from time import sleep\n",
    "from selenium import webdriver\n",
    "from selenium.webdriver.common.action_chains import ActionChains\n",
    "from selenium.webdriver.chrome.service import Service\n",
    "from selenium.webdriver.common.by import By\n",
    "from selenium.webdriver.support import expected_conditions as EC"
   ]
  },
  {
   "cell_type": "code",
   "execution_count": 3,
   "metadata": {
    "collapsed": false
   },
   "outputs": [],
   "source": [
    "import numpy as np\n",
    "import scipy.interpolate as si"
   ]
  },
  {
   "cell_type": "markdown",
   "metadata": {},
   "source": [
    "b spline interpolation from https://stackoverflow.com/questions/24612626/b-spline-interpolation-with-python"
   ]
  },
  {
   "cell_type": "code",
   "execution_count": 4,
   "metadata": {
    "collapsed": false
   },
   "outputs": [],
   "source": [
    "#curve base\n",
    "points = [[-6, 2], [-3, -2],[0, 0], [0, 2], [2, 3], [4, 0], [6, 3], [8, 5], [8, 8], [6, 8], [5, 9], [7, 2]];\n",
    "points = np.array(points)\n",
    "x = points[:,0]\n",
    "y = points[:,1]\n",
    "\n",
    "\n",
    "t = range(len(points))\n",
    "ipl_t = np.linspace(0.0, len(points) - 1, 100)\n",
    "\n",
    "\n",
    "x_tup = si.splrep(t, x, k=3)\n",
    "y_tup = si.splrep(t, y, k=3)\n",
    "\n",
    "x_list = list(x_tup)\n",
    "xl = x.tolist()\n",
    "x_list[1] = xl + [0.0, 0.0, 0.0, 0.0]\n",
    "\n",
    "y_list = list(y_tup)\n",
    "yl = y.tolist()\n",
    "y_list[1] = yl + [0.0, 0.0, 0.0, 0.0]\n",
    "\n",
    "x_i = si.splev(ipl_t, x_list)\n",
    "y_i = si.splev(ipl_t, y_list)"
   ]
  },
  {
   "cell_type": "code",
   "execution_count": 7,
   "metadata": {},
   "outputs": [],
   "source": [
    "url = \"https://cgm.demo-de.cloud.c3.cgm.ag/cgmg3\"\n",
    "service = Service(executable_path='./chromedriver.exe')\n",
    "options = webdriver.ChromeOptions()\n",
    "driver = webdriver.Chrome(service=service, options=options)\n",
    "driver.get(url)"
   ]
  },
  {
   "cell_type": "code",
   "execution_count": 40,
   "metadata": {
    "collapsed": false
   },
   "outputs": [],
   "source": [
    "from selenium.webdriver.common.by import By\n",
    "from selenium.webdriver.common.action_chains import ActionChains\n",
    "import time\n",
    "\n",
    "# Roter Cursor erstellen\n",
    "driver.execute_script(\"\"\"\n",
    "    var cursor = document.createElement('div');\n",
    "    cursor.id = 'custom-cursor';\n",
    "    cursor.style.width = '10px';\n",
    "    cursor.style.height = '10px';\n",
    "    cursor.style.borderRadius = '50%';\n",
    "    cursor.style.backgroundColor = 'red';\n",
    "    cursor.style.position = 'absolute';\n",
    "    cursor.style.pointerEvents = 'none';\n",
    "    cursor.style.zIndex = '10000';\n",
    "    document.body.appendChild(cursor);\n",
    "\n",
    "    document.addEventListener('mousemove', function(e) {\n",
    "        cursor.style.left = e.pageX + 'px';\n",
    "        cursor.style.top = e.pageY + 'px';\n",
    "    });\n",
    "\"\"\")\n",
    "\n",
    "action = ActionChains(driver)\n",
    "\n",
    "# Aktuelle Cursor-Position\n",
    "current_x = 0\n",
    "current_y = 0\n",
    "\n",
    "# Funktion zum langsamen Bewegen des \"Cursors\" zwischen zwei Punkten\n",
    "def move_cursor_to(target_element):\n",
    "    global current_x, current_y\n",
    "\n",
    "    # Zielposition des Elements bestimmen\n",
    "    target_location = target_element.location\n",
    "    target_size = target_element.size\n",
    "    target_x = target_location['x'] + target_size['width'] / 2\n",
    "    target_y = target_location['y'] + target_size['height'] / 2\n",
    "\n",
    "    # Rote Punktbewegung simulieren\n",
    "    steps = 20  # Anzahl der Schritte für die Bewegung\n",
    "    for step in range(steps + 1):\n",
    "        # Berechnung der Zwischenposition (Interpolation)\n",
    "        x = current_x + (target_x - current_x) * step / steps\n",
    "        y = current_y + (target_y - current_y) * step / steps\n",
    "\n",
    "        # Cursor-Position aktualisieren\n",
    "        driver.execute_script(f\"document.getElementById('custom-cursor').style.left = '{x}px';\")\n",
    "        driver.execute_script(f\"document.getElementById('custom-cursor').style.top = '{y}px';\")\n",
    "\n",
    "        time.sleep(0.05)  # Zeit zwischen den Schritten\n",
    "\n",
    "    # Nach dem Bewegen klicken\n",
    "    action.click(target_element).perform()\n",
    "    time.sleep(0.5)\n",
    "\n",
    "    # Aktualisiere die aktuelle Cursor-Position nach dem Klick\n",
    "    current_x = target_x\n",
    "    current_y = target_y\n",
    "\n",
    "# Zuerst auf \"Menü\" klicken, das ein <a>-Element ist\n",
    "menuElement = driver.find_element(By.XPATH, \"//a[contains(text(), 'Menü')]\")\n",
    "move_cursor_to(menuElement)\n",
    "\n",
    "# Menü erneut anklicken, um es wieder einzuklappen\n",
    "move_cursor_to(menuElement)\n",
    "\n",
    "# Dann auf \"Fallsuche\" klicken\n",
    "fallsucheElement = driver.find_element(By.XPATH, \"//label[contains(text(), 'Fallsuche')]\")\n",
    "move_cursor_to(fallsucheElement)\n",
    "\n",
    "# Zuletzt auf \"Übersicht Arzt\" klicken\n",
    "uebersichtArztElement = driver.find_element(By.XPATH, \"//label[contains(text(), 'Übersicht Arzt')]\")\n",
    "move_cursor_to(uebersichtArztElement)\n"
   ]
  }
 ],
 "metadata": {
  "kernelspec": {
   "display_name": "base",
   "language": "python",
   "name": "python3"
  },
  "language_info": {
   "codemirror_mode": {
    "name": "ipython",
    "version": 3
   },
   "file_extension": ".py",
   "mimetype": "text/x-python",
   "name": "python",
   "nbconvert_exporter": "python",
   "pygments_lexer": "ipython3",
   "version": "3.12.6"
  }
 },
 "nbformat": 4,
 "nbformat_minor": 2
}

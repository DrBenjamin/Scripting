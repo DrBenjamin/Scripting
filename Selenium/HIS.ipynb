{
 "cells": [
  {
   "cell_type": "markdown",
   "metadata": {},
   "source": [
    "to solve this question https://stackoverflow.com/questions/24612626/b-spline-interpolation-with-python/24693358#24693358"
   ]
  },
  {
   "cell_type": "code",
   "execution_count": 1,
   "metadata": {
    "collapsed": false
   },
   "outputs": [],
   "source": [
    "import os\n",
    "\n",
    "from time import sleep\n",
    "from selenium import webdriver\n",
    "from selenium.webdriver.common.action_chains import ActionChains\n",
    "from selenium.webdriver.chrome.service import Service\n",
    "from selenium.webdriver.common.by import By\n",
    "from selenium.webdriver.support import expected_conditions as EC"
   ]
  },
  {
   "cell_type": "code",
   "execution_count": 3,
   "metadata": {
    "collapsed": false
   },
   "outputs": [],
   "source": [
    "import numpy as np\n",
    "import scipy.interpolate as si"
   ]
  },
  {
   "cell_type": "markdown",
   "metadata": {},
   "source": [
    "b spline interpolation from https://stackoverflow.com/questions/24612626/b-spline-interpolation-with-python"
   ]
  },
  {
   "cell_type": "code",
   "execution_count": 4,
   "metadata": {
    "collapsed": false
   },
   "outputs": [],
   "source": [
    "#curve base\n",
    "points = [[-6, 2], [-3, -2],[0, 0], [0, 2], [2, 3], [4, 0], [6, 3], [8, 5], [8, 8], [6, 8], [5, 9], [7, 2]];\n",
    "points = np.array(points)\n",
    "x = points[:,0]\n",
    "y = points[:,1]\n",
    "\n",
    "\n",
    "t = range(len(points))\n",
    "ipl_t = np.linspace(0.0, len(points) - 1, 100)\n",
    "\n",
    "\n",
    "x_tup = si.splrep(t, x, k=3)\n",
    "y_tup = si.splrep(t, y, k=3)\n",
    "\n",
    "x_list = list(x_tup)\n",
    "xl = x.tolist()\n",
    "x_list[1] = xl + [0.0, 0.0, 0.0, 0.0]\n",
    "\n",
    "y_list = list(y_tup)\n",
    "yl = y.tolist()\n",
    "y_list[1] = yl + [0.0, 0.0, 0.0, 0.0]\n",
    "\n",
    "x_i = si.splev(ipl_t, x_list)\n",
    "y_i = si.splev(ipl_t, y_list)"
   ]
  },
  {
   "cell_type": "code",
   "execution_count": 7,
   "metadata": {},
   "outputs": [],
   "source": [
    "url = \"https://cgm.demo-de.cloud.c3.cgm.ag/cgmg3\"\n",
    "service = Service(executable_path='./chromedriver.exe')\n",
    "options = webdriver.ChromeOptions()\n",
    "driver = webdriver.Chrome(service=service, options=options)\n",
    "driver.get(url)"
   ]
  },
  {
   "cell_type": "code",
   "execution_count": 8,
   "metadata": {
    "collapsed": false
   },
   "outputs": [
    {
     "ename": "NoSuchElementException",
     "evalue": "Message: no such element: Unable to locate element: {\"method\":\"css selector\",\"selector\":\"[id=\"287e41c0-a5de-4102-8d17-5c247b015e9b\"]\"}\n  (Session info: chrome=130.0.6723.70); For documentation on this error, please visit: https://www.selenium.dev/documentation/webdriver/troubleshooting/errors#no-such-element-exception\nStacktrace:\n\tGetHandleVerifier [0x00007FF6D3A7E1F5+2972373]\n\t(No symbol) [0x00007FF6D37155F0]\n\t(No symbol) [0x00007FF6D35B57FA]\n\t(No symbol) [0x00007FF6D3605A3E]\n\t(No symbol) [0x00007FF6D3605D2C]\n\t(No symbol) [0x00007FF6D364EAB7]\n\t(No symbol) [0x00007FF6D362BABF]\n\t(No symbol) [0x00007FF6D364B8CC]\n\t(No symbol) [0x00007FF6D362B823]\n\t(No symbol) [0x00007FF6D35F75E8]\n\t(No symbol) [0x00007FF6D35F8751]\n\tGetHandleVerifier [0x00007FF6D3AA47BD+3129501]\n\tGetHandleVerifier [0x00007FF6D3AF4D00+3458528]\n\tGetHandleVerifier [0x00007FF6D3AEB05D+3418429]\n\tGetHandleVerifier [0x00007FF6D387687B+844123]\n\t(No symbol) [0x00007FF6D3720AFF]\n\t(No symbol) [0x00007FF6D371C6D4]\n\t(No symbol) [0x00007FF6D371C86D]\n\t(No symbol) [0x00007FF6D370BD79]\n\tBaseThreadInitThunk [0x00007FFFA8F4257D+29]\n\tRtlUserThreadStart [0x00007FFFA9C6AF08+40]\n",
     "output_type": "error",
     "traceback": [
      "\u001b[1;31m---------------------------------------------------------------------------\u001b[0m",
      "\u001b[1;31mNoSuchElementException\u001b[0m                    Traceback (most recent call last)",
      "Cell \u001b[1;32mIn[8], line 2\u001b[0m\n\u001b[0;32m      1\u001b[0m action \u001b[38;5;241m=\u001b[39m  ActionChains(driver);\n\u001b[1;32m----> 2\u001b[0m startElement \u001b[38;5;241m=\u001b[39m \u001b[43mdriver\u001b[49m\u001b[38;5;241;43m.\u001b[39;49m\u001b[43mfind_element\u001b[49m\u001b[43m(\u001b[49m\u001b[43mBy\u001b[49m\u001b[38;5;241;43m.\u001b[39;49m\u001b[43mID\u001b[49m\u001b[43m,\u001b[49m\u001b[43m \u001b[49m\u001b[38;5;124;43m'\u001b[39;49m\u001b[38;5;124;43m287e41c0-a5de-4102-8d17-5c247b015e9b\u001b[39;49m\u001b[38;5;124;43m'\u001b[39;49m\u001b[43m)\u001b[49m\n\u001b[0;32m      3\u001b[0m \u001b[38;5;66;03m#First, go to your start point or Element\u001b[39;00m\n\u001b[0;32m      4\u001b[0m action\u001b[38;5;241m.\u001b[39mmove_to_element(startElement);\n",
      "File \u001b[1;32mc:\\Users\\patrick.boeker\\miniforge3\\Lib\\site-packages\\selenium-4.25.0-py3.12.egg\\selenium\\webdriver\\remote\\webdriver.py:748\u001b[0m, in \u001b[0;36mWebDriver.find_element\u001b[1;34m(self, by, value)\u001b[0m\n\u001b[0;32m    745\u001b[0m     by \u001b[38;5;241m=\u001b[39m By\u001b[38;5;241m.\u001b[39mCSS_SELECTOR\n\u001b[0;32m    746\u001b[0m     value \u001b[38;5;241m=\u001b[39m \u001b[38;5;124mf\u001b[39m\u001b[38;5;124m'\u001b[39m\u001b[38;5;124m[name=\u001b[39m\u001b[38;5;124m\"\u001b[39m\u001b[38;5;132;01m{\u001b[39;00mvalue\u001b[38;5;132;01m}\u001b[39;00m\u001b[38;5;124m\"\u001b[39m\u001b[38;5;124m]\u001b[39m\u001b[38;5;124m'\u001b[39m\n\u001b[1;32m--> 748\u001b[0m \u001b[38;5;28;01mreturn\u001b[39;00m \u001b[38;5;28;43mself\u001b[39;49m\u001b[38;5;241;43m.\u001b[39;49m\u001b[43mexecute\u001b[49m\u001b[43m(\u001b[49m\u001b[43mCommand\u001b[49m\u001b[38;5;241;43m.\u001b[39;49m\u001b[43mFIND_ELEMENT\u001b[49m\u001b[43m,\u001b[49m\u001b[43m \u001b[49m\u001b[43m{\u001b[49m\u001b[38;5;124;43m\"\u001b[39;49m\u001b[38;5;124;43musing\u001b[39;49m\u001b[38;5;124;43m\"\u001b[39;49m\u001b[43m:\u001b[49m\u001b[43m \u001b[49m\u001b[43mby\u001b[49m\u001b[43m,\u001b[49m\u001b[43m \u001b[49m\u001b[38;5;124;43m\"\u001b[39;49m\u001b[38;5;124;43mvalue\u001b[39;49m\u001b[38;5;124;43m\"\u001b[39;49m\u001b[43m:\u001b[49m\u001b[43m \u001b[49m\u001b[43mvalue\u001b[49m\u001b[43m}\u001b[49m\u001b[43m)\u001b[49m[\u001b[38;5;124m\"\u001b[39m\u001b[38;5;124mvalue\u001b[39m\u001b[38;5;124m\"\u001b[39m]\n",
      "File \u001b[1;32mc:\\Users\\patrick.boeker\\miniforge3\\Lib\\site-packages\\selenium-4.25.0-py3.12.egg\\selenium\\webdriver\\remote\\webdriver.py:354\u001b[0m, in \u001b[0;36mWebDriver.execute\u001b[1;34m(self, driver_command, params)\u001b[0m\n\u001b[0;32m    352\u001b[0m response \u001b[38;5;241m=\u001b[39m \u001b[38;5;28mself\u001b[39m\u001b[38;5;241m.\u001b[39mcommand_executor\u001b[38;5;241m.\u001b[39mexecute(driver_command, params)\n\u001b[0;32m    353\u001b[0m \u001b[38;5;28;01mif\u001b[39;00m response:\n\u001b[1;32m--> 354\u001b[0m     \u001b[38;5;28;43mself\u001b[39;49m\u001b[38;5;241;43m.\u001b[39;49m\u001b[43merror_handler\u001b[49m\u001b[38;5;241;43m.\u001b[39;49m\u001b[43mcheck_response\u001b[49m\u001b[43m(\u001b[49m\u001b[43mresponse\u001b[49m\u001b[43m)\u001b[49m\n\u001b[0;32m    355\u001b[0m     response[\u001b[38;5;124m\"\u001b[39m\u001b[38;5;124mvalue\u001b[39m\u001b[38;5;124m\"\u001b[39m] \u001b[38;5;241m=\u001b[39m \u001b[38;5;28mself\u001b[39m\u001b[38;5;241m.\u001b[39m_unwrap_value(response\u001b[38;5;241m.\u001b[39mget(\u001b[38;5;124m\"\u001b[39m\u001b[38;5;124mvalue\u001b[39m\u001b[38;5;124m\"\u001b[39m, \u001b[38;5;28;01mNone\u001b[39;00m))\n\u001b[0;32m    356\u001b[0m     \u001b[38;5;28;01mreturn\u001b[39;00m response\n",
      "File \u001b[1;32mc:\\Users\\patrick.boeker\\miniforge3\\Lib\\site-packages\\selenium-4.25.0-py3.12.egg\\selenium\\webdriver\\remote\\errorhandler.py:229\u001b[0m, in \u001b[0;36mErrorHandler.check_response\u001b[1;34m(self, response)\u001b[0m\n\u001b[0;32m    227\u001b[0m         alert_text \u001b[38;5;241m=\u001b[39m value[\u001b[38;5;124m\"\u001b[39m\u001b[38;5;124malert\u001b[39m\u001b[38;5;124m\"\u001b[39m]\u001b[38;5;241m.\u001b[39mget(\u001b[38;5;124m\"\u001b[39m\u001b[38;5;124mtext\u001b[39m\u001b[38;5;124m\"\u001b[39m)\n\u001b[0;32m    228\u001b[0m     \u001b[38;5;28;01mraise\u001b[39;00m exception_class(message, screen, stacktrace, alert_text)  \u001b[38;5;66;03m# type: ignore[call-arg]  # mypy is not smart enough here\u001b[39;00m\n\u001b[1;32m--> 229\u001b[0m \u001b[38;5;28;01mraise\u001b[39;00m exception_class(message, screen, stacktrace)\n",
      "\u001b[1;31mNoSuchElementException\u001b[0m: Message: no such element: Unable to locate element: {\"method\":\"css selector\",\"selector\":\"[id=\"287e41c0-a5de-4102-8d17-5c247b015e9b\"]\"}\n  (Session info: chrome=130.0.6723.70); For documentation on this error, please visit: https://www.selenium.dev/documentation/webdriver/troubleshooting/errors#no-such-element-exception\nStacktrace:\n\tGetHandleVerifier [0x00007FF6D3A7E1F5+2972373]\n\t(No symbol) [0x00007FF6D37155F0]\n\t(No symbol) [0x00007FF6D35B57FA]\n\t(No symbol) [0x00007FF6D3605A3E]\n\t(No symbol) [0x00007FF6D3605D2C]\n\t(No symbol) [0x00007FF6D364EAB7]\n\t(No symbol) [0x00007FF6D362BABF]\n\t(No symbol) [0x00007FF6D364B8CC]\n\t(No symbol) [0x00007FF6D362B823]\n\t(No symbol) [0x00007FF6D35F75E8]\n\t(No symbol) [0x00007FF6D35F8751]\n\tGetHandleVerifier [0x00007FF6D3AA47BD+3129501]\n\tGetHandleVerifier [0x00007FF6D3AF4D00+3458528]\n\tGetHandleVerifier [0x00007FF6D3AEB05D+3418429]\n\tGetHandleVerifier [0x00007FF6D387687B+844123]\n\t(No symbol) [0x00007FF6D3720AFF]\n\t(No symbol) [0x00007FF6D371C6D4]\n\t(No symbol) [0x00007FF6D371C86D]\n\t(No symbol) [0x00007FF6D370BD79]\n\tBaseThreadInitThunk [0x00007FFFA8F4257D+29]\n\tRtlUserThreadStart [0x00007FFFA9C6AF08+40]\n"
     ]
    }
   ],
   "source": [
    "action =  ActionChains(driver);\n",
    "startElement = driver.find_element(By.ID, '287e41c0-a5de-4102-8d17-5c247b015e9b')\n",
    "#First, go to your start point or Element\n",
    "action.move_to_element(startElement);\n",
    "action.perform();\n",
    "\n",
    "for mouse_x, mouse_y in zip(x_i, y_i):\n",
    "    action.move_by_offset(mouse_x,mouse_y);\n",
    "    action.perform();\n",
    "    sleep(0.1)\n",
    "    print(mouse_x, mouse_y)"
   ]
  }
 ],
 "metadata": {
  "kernelspec": {
   "display_name": "base",
   "language": "python",
   "name": "python3"
  },
  "language_info": {
   "codemirror_mode": {
    "name": "ipython",
    "version": 3
   },
   "file_extension": ".py",
   "mimetype": "text/x-python",
   "name": "python",
   "nbconvert_exporter": "python",
   "pygments_lexer": "ipython3",
   "version": "3.12.6"
  }
 },
 "nbformat": 4,
 "nbformat_minor": 2
}

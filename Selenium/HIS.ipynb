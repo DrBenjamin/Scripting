{
 "cells": [
  {
   "cell_type": "code",
   "execution_count": 1,
   "metadata": {
    "collapsed": false
   },
   "outputs": [],
   "source": [
    "import os\n",
    "from time import sleep\n",
    "from selenium import webdriver\n",
    "from selenium.webdriver.common.action_chains import ActionChains\n",
    "from selenium.webdriver.chrome.service import Service\n",
    "from selenium.webdriver.common.by import By\n",
    "from selenium.webdriver.support import expected_conditions as EC"
   ]
  },
  {
   "cell_type": "code",
   "execution_count": 5,
   "metadata": {},
   "outputs": [
    {
     "ename": "WebDriverException",
     "evalue": "Message: Can not connect to the Service ./chromedriver\n",
     "output_type": "error",
     "traceback": [
      "\u001b[0;31m---------------------------------------------------------------------------\u001b[0m",
      "\u001b[0;31mWebDriverException\u001b[0m                        Traceback (most recent call last)",
      "Cell \u001b[0;32mIn[5], line 8\u001b[0m\n\u001b[1;32m      6\u001b[0m service \u001b[38;5;241m=\u001b[39m Service(executable_path\u001b[38;5;241m=\u001b[39mexecutable_path)\n\u001b[1;32m      7\u001b[0m options \u001b[38;5;241m=\u001b[39m webdriver\u001b[38;5;241m.\u001b[39mChromeOptions()\n\u001b[0;32m----> 8\u001b[0m driver \u001b[38;5;241m=\u001b[39m \u001b[43mwebdriver\u001b[49m\u001b[38;5;241;43m.\u001b[39;49m\u001b[43mChrome\u001b[49m\u001b[43m(\u001b[49m\u001b[43mservice\u001b[49m\u001b[38;5;241;43m=\u001b[39;49m\u001b[43mservice\u001b[49m\u001b[43m,\u001b[49m\u001b[43m \u001b[49m\u001b[43moptions\u001b[49m\u001b[38;5;241;43m=\u001b[39;49m\u001b[43moptions\u001b[49m\u001b[43m)\u001b[49m\n\u001b[1;32m      9\u001b[0m driver\u001b[38;5;241m.\u001b[39mget(url)\n",
      "File \u001b[0;32m/opt/homebrew/Cellar/miniforge3/envs/template-generator/lib/python3.11/site-packages/selenium/webdriver/chrome/webdriver.py:45\u001b[0m, in \u001b[0;36mWebDriver.__init__\u001b[0;34m(self, options, service, keep_alive)\u001b[0m\n\u001b[1;32m     42\u001b[0m service \u001b[38;5;241m=\u001b[39m service \u001b[38;5;28;01mif\u001b[39;00m service \u001b[38;5;28;01melse\u001b[39;00m Service()\n\u001b[1;32m     43\u001b[0m options \u001b[38;5;241m=\u001b[39m options \u001b[38;5;28;01mif\u001b[39;00m options \u001b[38;5;28;01melse\u001b[39;00m Options()\n\u001b[0;32m---> 45\u001b[0m \u001b[38;5;28;43msuper\u001b[39;49m\u001b[43m(\u001b[49m\u001b[43m)\u001b[49m\u001b[38;5;241;43m.\u001b[39;49m\u001b[38;5;21;43m__init__\u001b[39;49m\u001b[43m(\u001b[49m\n\u001b[1;32m     46\u001b[0m \u001b[43m    \u001b[49m\u001b[43mbrowser_name\u001b[49m\u001b[38;5;241;43m=\u001b[39;49m\u001b[43mDesiredCapabilities\u001b[49m\u001b[38;5;241;43m.\u001b[39;49m\u001b[43mCHROME\u001b[49m\u001b[43m[\u001b[49m\u001b[38;5;124;43m\"\u001b[39;49m\u001b[38;5;124;43mbrowserName\u001b[39;49m\u001b[38;5;124;43m\"\u001b[39;49m\u001b[43m]\u001b[49m\u001b[43m,\u001b[49m\n\u001b[1;32m     47\u001b[0m \u001b[43m    \u001b[49m\u001b[43mvendor_prefix\u001b[49m\u001b[38;5;241;43m=\u001b[39;49m\u001b[38;5;124;43m\"\u001b[39;49m\u001b[38;5;124;43mgoog\u001b[39;49m\u001b[38;5;124;43m\"\u001b[39;49m\u001b[43m,\u001b[49m\n\u001b[1;32m     48\u001b[0m \u001b[43m    \u001b[49m\u001b[43moptions\u001b[49m\u001b[38;5;241;43m=\u001b[39;49m\u001b[43moptions\u001b[49m\u001b[43m,\u001b[49m\n\u001b[1;32m     49\u001b[0m \u001b[43m    \u001b[49m\u001b[43mservice\u001b[49m\u001b[38;5;241;43m=\u001b[39;49m\u001b[43mservice\u001b[49m\u001b[43m,\u001b[49m\n\u001b[1;32m     50\u001b[0m \u001b[43m    \u001b[49m\u001b[43mkeep_alive\u001b[49m\u001b[38;5;241;43m=\u001b[39;49m\u001b[43mkeep_alive\u001b[49m\u001b[43m,\u001b[49m\n\u001b[1;32m     51\u001b[0m \u001b[43m\u001b[49m\u001b[43m)\u001b[49m\n",
      "File \u001b[0;32m/opt/homebrew/Cellar/miniforge3/envs/template-generator/lib/python3.11/site-packages/selenium/webdriver/chromium/webdriver.py:55\u001b[0m, in \u001b[0;36mChromiumDriver.__init__\u001b[0;34m(self, browser_name, vendor_prefix, options, service, keep_alive)\u001b[0m\n\u001b[1;32m     52\u001b[0m     options\u001b[38;5;241m.\u001b[39mbrowser_version \u001b[38;5;241m=\u001b[39m \u001b[38;5;28;01mNone\u001b[39;00m\n\u001b[1;32m     54\u001b[0m \u001b[38;5;28mself\u001b[39m\u001b[38;5;241m.\u001b[39mservice\u001b[38;5;241m.\u001b[39mpath \u001b[38;5;241m=\u001b[39m finder\u001b[38;5;241m.\u001b[39mget_driver_path()\n\u001b[0;32m---> 55\u001b[0m \u001b[38;5;28;43mself\u001b[39;49m\u001b[38;5;241;43m.\u001b[39;49m\u001b[43mservice\u001b[49m\u001b[38;5;241;43m.\u001b[39;49m\u001b[43mstart\u001b[49m\u001b[43m(\u001b[49m\u001b[43m)\u001b[49m\n\u001b[1;32m     57\u001b[0m executor \u001b[38;5;241m=\u001b[39m ChromiumRemoteConnection(\n\u001b[1;32m     58\u001b[0m     remote_server_addr\u001b[38;5;241m=\u001b[39m\u001b[38;5;28mself\u001b[39m\u001b[38;5;241m.\u001b[39mservice\u001b[38;5;241m.\u001b[39mservice_url,\n\u001b[1;32m     59\u001b[0m     browser_name\u001b[38;5;241m=\u001b[39mbrowser_name,\n\u001b[0;32m   (...)\u001b[0m\n\u001b[1;32m     62\u001b[0m     ignore_proxy\u001b[38;5;241m=\u001b[39moptions\u001b[38;5;241m.\u001b[39m_ignore_local_proxy,\n\u001b[1;32m     63\u001b[0m )\n\u001b[1;32m     65\u001b[0m \u001b[38;5;28;01mtry\u001b[39;00m:\n",
      "File \u001b[0;32m/opt/homebrew/Cellar/miniforge3/envs/template-generator/lib/python3.11/site-packages/selenium/webdriver/common/service.py:112\u001b[0m, in \u001b[0;36mService.start\u001b[0;34m(self)\u001b[0m\n\u001b[1;32m    110\u001b[0m count \u001b[38;5;241m+\u001b[39m\u001b[38;5;241m=\u001b[39m \u001b[38;5;241m1\u001b[39m\n\u001b[1;32m    111\u001b[0m \u001b[38;5;28;01mif\u001b[39;00m count \u001b[38;5;241m==\u001b[39m \u001b[38;5;241m70\u001b[39m:\n\u001b[0;32m--> 112\u001b[0m     \u001b[38;5;28;01mraise\u001b[39;00m WebDriverException(\u001b[38;5;124mf\u001b[39m\u001b[38;5;124m\"\u001b[39m\u001b[38;5;124mCan not connect to the Service \u001b[39m\u001b[38;5;132;01m{\u001b[39;00m\u001b[38;5;28mself\u001b[39m\u001b[38;5;241m.\u001b[39m_path\u001b[38;5;132;01m}\u001b[39;00m\u001b[38;5;124m\"\u001b[39m)\n",
      "\u001b[0;31mWebDriverException\u001b[0m: Message: Can not connect to the Service ./chromedriver\n"
     ]
    }
   ],
   "source": [
    "url = \"https://cgm.demo-de.cloud.c3.cgm.ag/cgmg3\"\n",
    "if os.name == 'nt':  # Windows\n",
    "    executable_path = './chromedriver.exe'\n",
    "else:  # Mac or other Unix-like systems\n",
    "    executable_path = './chromedriver'\n",
    "service = Service(executable_path=executable_path)\n",
    "options = webdriver.ChromeOptions()\n",
    "driver = webdriver.Chrome(service=service, options=options)\n",
    "driver.get(url)"
   ]
  },
  {
   "cell_type": "code",
   "execution_count": 4,
   "metadata": {},
   "outputs": [],
   "source": [
    "driver.execute_script(\"\"\"\n",
    "    var cursorContainer = document.createElement('div');\n",
    "    cursorContainer.id = 'custom-cursor-container';\n",
    "    cursorContainer.style.position = 'absolute';\n",
    "    cursorContainer.style.pointerEvents = 'none';\n",
    "    cursorContainer.style.zIndex = '10000';\n",
    "    cursorContainer.style.transform = 'rotate(-45deg)'; // Dreieck und Balken gemeinsam drehen\n",
    "    document.body.appendChild(cursorContainer);\n",
    "\n",
    "    var cursor = document.createElement('div');\n",
    "    cursor.id = 'custom-cursor';\n",
    "    cursor.style.width = '0';\n",
    "    cursor.style.height = '0';\n",
    "    cursor.style.borderLeft = '10px solid transparent';\n",
    "    cursor.style.borderRight = '10px solid transparent';\n",
    "    cursor.style.borderBottom = '20px solid white';\n",
    "    cursor.style.position = 'relative'; // Innerhalb des Containers positioniert\n",
    "    cursor.style.pointerEvents = 'none';\n",
    "    cursor.style.zIndex = '10000';\n",
    "    cursorContainer.appendChild(cursor);\n",
    "\n",
    "    var cursorTail = document.createElement('div');\n",
    "    cursorTail.id = 'cursor-tail';\n",
    "    cursorTail.style.width = '2px'; // Breite des kleinen Balkens\n",
    "    cursorTail.style.height = '12px'; // Länge des kleinen Balkens\n",
    "    cursorTail.style.backgroundColor = 'white'; // Gleiche Farbe wie das Dreieck\n",
    "    cursorTail.style.position = 'absolute';\n",
    "    cursorTail.style.top = '18px'; // Unterhalb des Dreiecks platzieren\n",
    "    cursorTail.style.left = '8px'; // Leicht zur Seite versetzen\n",
    "    cursorContainer.appendChild(cursorTail);\n",
    "\n",
    "    var cursorAni = cursorContainer.cloneNode(true);\n",
    "    cursorAni.id = 'animation-cursor';\n",
    "    document.body.appendChild(cursorAni);\n",
    "\n",
    "    document.addEventListener('mousemove', function(e) {\n",
    "        cursorAni.style.left = e.pageX + 'px';\n",
    "        cursorAni.style.top = e.pageY + 'px';\n",
    "    });\n",
    "\n",
    "    window.hideCursor = function() {\n",
    "        cursorContainer.style.opacity = '0.0';\n",
    "        document.body.style.cursor = 'none';\n",
    "    }\n",
    "\n",
    "    window.showCursor = function() {\n",
    "        cursorContainer.style.opacity = '1';\n",
    "        document.body.style.cursor = 'default';\n",
    "    }\n",
    "\"\"\")\n"
   ]
  },
  {
   "cell_type": "code",
   "execution_count": 6,
   "metadata": {
    "collapsed": false
   },
   "outputs": [],
   "source": [
    "action = ActionChains(driver)\n",
    "\n",
    "# Aktuelle Cursor-Position\n",
    "current_x = 0\n",
    "current_y = 0\n",
    "\n",
    "# Funktion zum langsamen Bewegen des \"Cursors\" zwischen zwei Punkten\n",
    "def move_cursor_to(target_element):\n",
    "    global current_x, current_y\n",
    "\n",
    "    # Zielposition des Elements bestimmen\n",
    "    target_location = target_element.location\n",
    "    target_size = target_element.size\n",
    "    target_x = target_location['x'] + target_size['width'] / 2\n",
    "    target_y = target_location['y'] + target_size['height'] / 2\n",
    "\n",
    "    # Rote Punktbewegung simulieren\n",
    "    driver.execute_script(\"window.hideCursor();\")\n",
    "    steps = 20  # Anzahl der Schritte für die Bewegung\n",
    "    for step in range(steps + 1):\n",
    "        # Berechnung der Zwischenposition (Interpolation)\n",
    "        x = current_x + (target_x - current_x) * step / steps\n",
    "        y = current_y + (target_y - current_y) * step / steps\n",
    "\n",
    "        # Cursor-Position aktualisieren\n",
    "        driver.execute_script(f\"document.getElementById('animation-cursor').style.left = '{x}px';\")\n",
    "        driver.execute_script(f\"document.getElementById('animation-cursor').style.top = '{y}px';\")\n",
    "\n",
    "        sleep(0.05)  # Zeit zwischen den Schritten\n",
    "\n",
    "    # Nach dem Bewegen klicken\n",
    "    action.click(target_element).perform()\n",
    "    sleep(0.5)\n",
    "\n",
    "    # Aktualisiere die aktuelle Cursor-Position nach dem Klick\n",
    "    current_x = target_x\n",
    "    current_y = target_y\n",
    "    driver.execute_script(\"window.showCursor();\")\n",
    "\n",
    "# Zuerst auf \"Menü\" klicken, das ein <a>-Element ist\n",
    "menuElement = driver.find_element(By.XPATH, \"//a[contains(text(), 'Menü')]\")\n",
    "move_cursor_to(menuElement)\n",
    "\n",
    "# Menü erneut anklicken, um es wieder einzuklappen\n",
    "move_cursor_to(menuElement)\n",
    "\n",
    "# Dann auf \"Fallsuche\" klicken\n",
    "fallsucheElement = driver.find_element(By.XPATH, \"//label[contains(text(), 'Fallsuche')]\")\n",
    "move_cursor_to(fallsucheElement)\n",
    "\n",
    "# Zuletzt auf \"Übersicht Arzt\" klicken\n",
    "uebersichtArztElement = driver.find_element(By.XPATH, \"//label[contains(text(), 'Übersicht Arzt')]\")\n",
    "move_cursor_to(uebersichtArztElement)\n"
   ]
  }
 ],
 "metadata": {
  "kernelspec": {
   "display_name": "template-generator",
   "language": "python",
   "name": "python3"
  },
  "language_info": {
   "codemirror_mode": {
    "name": "ipython",
    "version": 3
   },
   "file_extension": ".py",
   "mimetype": "text/x-python",
   "name": "python",
   "nbconvert_exporter": "python",
   "pygments_lexer": "ipython3",
   "version": "3.11.10"
  }
 },
 "nbformat": 4,
 "nbformat_minor": 2
}

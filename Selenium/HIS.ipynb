{
 "cells": [
  {
   "cell_type": "code",
   "execution_count": 1,
   "metadata": {
    "collapsed": false
   },
   "outputs": [],
   "source": [
    "import os\n",
    "from time import sleep\n",
    "from selenium import webdriver\n",
    "from selenium.webdriver.common.action_chains import ActionChains\n",
    "from selenium.webdriver.chrome.service import Service\n",
    "from selenium.webdriver.common.by import By\n",
    "from selenium.webdriver.support import expected_conditions as EC"
   ]
  },
  {
   "cell_type": "code",
   "execution_count": 26,
   "metadata": {},
   "outputs": [],
   "source": [
    "url = \"https://cgm.demo-de.cloud.c3.cgm.ag/cgmg3\"\n",
    "if os.name == 'nt':  # Windows\n",
    "    executable_path = './chromedriver.exe'\n",
    "else:  # Mac or other Unix-like systems\n",
    "    executable_path = './chromedriver'\n",
    "service = Service(executable_path=executable_path)\n",
    "options = webdriver.ChromeOptions()\n",
    "options.add_argument('--ignore-certificate-errors')\n",
    "driver = webdriver.Chrome(service=service, options=options)\n",
    "driver.get(url)"
   ]
  },
  {
   "cell_type": "code",
   "execution_count": 3,
   "metadata": {},
   "outputs": [],
   "source": [
    "driver.execute_script(\"\"\"\n",
    "    var cursorContainer = document.createElement('div');\n",
    "    cursorContainer.id = 'custom-cursor-container';\n",
    "    cursorContainer.style.position = 'absolute';\n",
    "    cursorContainer.style.pointerEvents = 'none';\n",
    "    cursorContainer.style.zIndex = '10000';\n",
    "    cursorContainer.style.transform = 'rotate(-45deg)'; // Dreieck und Balken gemeinsam drehen\n",
    "    document.body.appendChild(cursorContainer);\n",
    "\n",
    "    var cursor = document.createElement('div');\n",
    "    cursor.id = 'custom-cursor';\n",
    "    cursor.style.width = '0';\n",
    "    cursor.style.height = '0';\n",
    "    cursor.style.borderLeft = '10px solid transparent';\n",
    "    cursor.style.borderRight = '10px solid transparent';\n",
    "    cursor.style.borderBottom = '20px solid white';\n",
    "    cursor.style.position = 'relative'; // Innerhalb des Containers positioniert\n",
    "    cursor.style.pointerEvents = 'none';\n",
    "    cursor.style.zIndex = '10000';\n",
    "    cursorContainer.appendChild(cursor);\n",
    "\n",
    "    var cursorTail = document.createElement('div');\n",
    "    cursorTail.id = 'cursor-tail';\n",
    "    cursorTail.style.width = '2px'; // Breite des kleinen Balkens\n",
    "    cursorTail.style.height = '12px'; // Länge des kleinen Balkens\n",
    "    cursorTail.style.backgroundColor = 'white'; // Gleiche Farbe wie das Dreieck\n",
    "    cursorTail.style.position = 'absolute';\n",
    "    cursorTail.style.top = '18px'; // Unterhalb des Dreiecks platzieren\n",
    "    cursorTail.style.left = '8px'; // Leicht zur Seite versetzen\n",
    "    cursorContainer.appendChild(cursorTail);\n",
    "\n",
    "    var cursorAni = cursorContainer.cloneNode(true);\n",
    "    cursorAni.id = 'animation-cursor';\n",
    "    document.body.appendChild(cursorAni);\n",
    "\n",
    "    document.addEventListener('mousemove', function(e) {\n",
    "        cursorAni.style.left = e.pageX + 'px';\n",
    "        cursorAni.style.top = e.pageY + 'px';\n",
    "    });\n",
    "\n",
    "    window.hideCursor = function() {\n",
    "        cursorContainer.style.opacity = '0.0';\n",
    "        document.body.style.cursor = 'none';\n",
    "    }\n",
    "\n",
    "    window.showCursor = function() {\n",
    "        cursorContainer.style.opacity = '1';\n",
    "        document.body.style.cursor = 'default';\n",
    "    }\n",
    "\"\"\")\n"
   ]
  },
  {
   "cell_type": "code",
   "execution_count": 4,
   "metadata": {
    "collapsed": false
   },
   "outputs": [
    {
     "ename": "NoSuchElementException",
     "evalue": "Message: no such element: Unable to locate element: {\"method\":\"xpath\",\"selector\":\"//a[contains(text(), 'Menü')]\"}\n  (Session info: chrome=130.0.6723.60); For documentation on this error, please visit: https://www.selenium.dev/documentation/webdriver/troubleshooting/errors#no-such-element-exception\nStacktrace:\n\tGetHandleVerifier [0x00007FF7C0C6E1F5+2972373]\n\t(No symbol) [0x00007FF7C09055F0]\n\t(No symbol) [0x00007FF7C07A57FA]\n\t(No symbol) [0x00007FF7C07F5A3E]\n\t(No symbol) [0x00007FF7C07F5D2C]\n\t(No symbol) [0x00007FF7C083EAB7]\n\t(No symbol) [0x00007FF7C081BABF]\n\t(No symbol) [0x00007FF7C083B8CC]\n\t(No symbol) [0x00007FF7C081B823]\n\t(No symbol) [0x00007FF7C07E75E8]\n\t(No symbol) [0x00007FF7C07E8751]\n\tGetHandleVerifier [0x00007FF7C0C947BD+3129501]\n\tGetHandleVerifier [0x00007FF7C0CE4D00+3458528]\n\tGetHandleVerifier [0x00007FF7C0CDB05D+3418429]\n\tGetHandleVerifier [0x00007FF7C0A6687B+844123]\n\t(No symbol) [0x00007FF7C0910AFF]\n\t(No symbol) [0x00007FF7C090C6D4]\n\t(No symbol) [0x00007FF7C090C86D]\n\t(No symbol) [0x00007FF7C08FBD79]\n\tBaseThreadInitThunk [0x00007FFF1EB6257D+29]\n\tRtlUserThreadStart [0x00007FFF1F1CAF08+40]\n",
     "output_type": "error",
     "traceback": [
      "\u001b[1;31m---------------------------------------------------------------------------\u001b[0m",
      "\u001b[1;31mNoSuchElementException\u001b[0m                    Traceback (most recent call last)",
      "Cell \u001b[1;32mIn[4], line 41\u001b[0m\n\u001b[0;32m     38\u001b[0m     driver\u001b[38;5;241m.\u001b[39mexecute_script(\u001b[38;5;124m\"\u001b[39m\u001b[38;5;124mwindow.showCursor();\u001b[39m\u001b[38;5;124m\"\u001b[39m)\n\u001b[0;32m     40\u001b[0m \u001b[38;5;66;03m# Zuerst auf \"Menü\" klicken, das ein <a>-Element ist\u001b[39;00m\n\u001b[1;32m---> 41\u001b[0m menuElement \u001b[38;5;241m=\u001b[39m \u001b[43mdriver\u001b[49m\u001b[38;5;241;43m.\u001b[39;49m\u001b[43mfind_element\u001b[49m\u001b[43m(\u001b[49m\u001b[43mBy\u001b[49m\u001b[38;5;241;43m.\u001b[39;49m\u001b[43mXPATH\u001b[49m\u001b[43m,\u001b[49m\u001b[43m \u001b[49m\u001b[38;5;124;43m\"\u001b[39;49m\u001b[38;5;124;43m//a[contains(text(), \u001b[39;49m\u001b[38;5;124;43m'\u001b[39;49m\u001b[38;5;124;43mMenü\u001b[39;49m\u001b[38;5;124;43m'\u001b[39;49m\u001b[38;5;124;43m)]\u001b[39;49m\u001b[38;5;124;43m\"\u001b[39;49m\u001b[43m)\u001b[49m\n\u001b[0;32m     42\u001b[0m move_cursor_to(menuElement)\n\u001b[0;32m     44\u001b[0m \u001b[38;5;66;03m# Menü erneut anklicken, um es wieder einzuklappen\u001b[39;00m\n",
      "File \u001b[1;32mc:\\Users\\120700002024\\AppData\\Local\\miniforge3\\envs\\template-generator\\Lib\\site-packages\\selenium\\webdriver\\remote\\webdriver.py:748\u001b[0m, in \u001b[0;36mWebDriver.find_element\u001b[1;34m(self, by, value)\u001b[0m\n\u001b[0;32m    745\u001b[0m     by \u001b[38;5;241m=\u001b[39m By\u001b[38;5;241m.\u001b[39mCSS_SELECTOR\n\u001b[0;32m    746\u001b[0m     value \u001b[38;5;241m=\u001b[39m \u001b[38;5;124mf\u001b[39m\u001b[38;5;124m'\u001b[39m\u001b[38;5;124m[name=\u001b[39m\u001b[38;5;124m\"\u001b[39m\u001b[38;5;132;01m{\u001b[39;00mvalue\u001b[38;5;132;01m}\u001b[39;00m\u001b[38;5;124m\"\u001b[39m\u001b[38;5;124m]\u001b[39m\u001b[38;5;124m'\u001b[39m\n\u001b[1;32m--> 748\u001b[0m \u001b[38;5;28;01mreturn\u001b[39;00m \u001b[38;5;28;43mself\u001b[39;49m\u001b[38;5;241;43m.\u001b[39;49m\u001b[43mexecute\u001b[49m\u001b[43m(\u001b[49m\u001b[43mCommand\u001b[49m\u001b[38;5;241;43m.\u001b[39;49m\u001b[43mFIND_ELEMENT\u001b[49m\u001b[43m,\u001b[49m\u001b[43m \u001b[49m\u001b[43m{\u001b[49m\u001b[38;5;124;43m\"\u001b[39;49m\u001b[38;5;124;43musing\u001b[39;49m\u001b[38;5;124;43m\"\u001b[39;49m\u001b[43m:\u001b[49m\u001b[43m \u001b[49m\u001b[43mby\u001b[49m\u001b[43m,\u001b[49m\u001b[43m \u001b[49m\u001b[38;5;124;43m\"\u001b[39;49m\u001b[38;5;124;43mvalue\u001b[39;49m\u001b[38;5;124;43m\"\u001b[39;49m\u001b[43m:\u001b[49m\u001b[43m \u001b[49m\u001b[43mvalue\u001b[49m\u001b[43m}\u001b[49m\u001b[43m)\u001b[49m[\u001b[38;5;124m\"\u001b[39m\u001b[38;5;124mvalue\u001b[39m\u001b[38;5;124m\"\u001b[39m]\n",
      "File \u001b[1;32mc:\\Users\\120700002024\\AppData\\Local\\miniforge3\\envs\\template-generator\\Lib\\site-packages\\selenium\\webdriver\\remote\\webdriver.py:354\u001b[0m, in \u001b[0;36mWebDriver.execute\u001b[1;34m(self, driver_command, params)\u001b[0m\n\u001b[0;32m    352\u001b[0m response \u001b[38;5;241m=\u001b[39m \u001b[38;5;28mself\u001b[39m\u001b[38;5;241m.\u001b[39mcommand_executor\u001b[38;5;241m.\u001b[39mexecute(driver_command, params)\n\u001b[0;32m    353\u001b[0m \u001b[38;5;28;01mif\u001b[39;00m response:\n\u001b[1;32m--> 354\u001b[0m     \u001b[38;5;28;43mself\u001b[39;49m\u001b[38;5;241;43m.\u001b[39;49m\u001b[43merror_handler\u001b[49m\u001b[38;5;241;43m.\u001b[39;49m\u001b[43mcheck_response\u001b[49m\u001b[43m(\u001b[49m\u001b[43mresponse\u001b[49m\u001b[43m)\u001b[49m\n\u001b[0;32m    355\u001b[0m     response[\u001b[38;5;124m\"\u001b[39m\u001b[38;5;124mvalue\u001b[39m\u001b[38;5;124m\"\u001b[39m] \u001b[38;5;241m=\u001b[39m \u001b[38;5;28mself\u001b[39m\u001b[38;5;241m.\u001b[39m_unwrap_value(response\u001b[38;5;241m.\u001b[39mget(\u001b[38;5;124m\"\u001b[39m\u001b[38;5;124mvalue\u001b[39m\u001b[38;5;124m\"\u001b[39m, \u001b[38;5;28;01mNone\u001b[39;00m))\n\u001b[0;32m    356\u001b[0m     \u001b[38;5;28;01mreturn\u001b[39;00m response\n",
      "File \u001b[1;32mc:\\Users\\120700002024\\AppData\\Local\\miniforge3\\envs\\template-generator\\Lib\\site-packages\\selenium\\webdriver\\remote\\errorhandler.py:229\u001b[0m, in \u001b[0;36mErrorHandler.check_response\u001b[1;34m(self, response)\u001b[0m\n\u001b[0;32m    227\u001b[0m         alert_text \u001b[38;5;241m=\u001b[39m value[\u001b[38;5;124m\"\u001b[39m\u001b[38;5;124malert\u001b[39m\u001b[38;5;124m\"\u001b[39m]\u001b[38;5;241m.\u001b[39mget(\u001b[38;5;124m\"\u001b[39m\u001b[38;5;124mtext\u001b[39m\u001b[38;5;124m\"\u001b[39m)\n\u001b[0;32m    228\u001b[0m     \u001b[38;5;28;01mraise\u001b[39;00m exception_class(message, screen, stacktrace, alert_text)  \u001b[38;5;66;03m# type: ignore[call-arg]  # mypy is not smart enough here\u001b[39;00m\n\u001b[1;32m--> 229\u001b[0m \u001b[38;5;28;01mraise\u001b[39;00m exception_class(message, screen, stacktrace)\n",
      "\u001b[1;31mNoSuchElementException\u001b[0m: Message: no such element: Unable to locate element: {\"method\":\"xpath\",\"selector\":\"//a[contains(text(), 'Menü')]\"}\n  (Session info: chrome=130.0.6723.60); For documentation on this error, please visit: https://www.selenium.dev/documentation/webdriver/troubleshooting/errors#no-such-element-exception\nStacktrace:\n\tGetHandleVerifier [0x00007FF7C0C6E1F5+2972373]\n\t(No symbol) [0x00007FF7C09055F0]\n\t(No symbol) [0x00007FF7C07A57FA]\n\t(No symbol) [0x00007FF7C07F5A3E]\n\t(No symbol) [0x00007FF7C07F5D2C]\n\t(No symbol) [0x00007FF7C083EAB7]\n\t(No symbol) [0x00007FF7C081BABF]\n\t(No symbol) [0x00007FF7C083B8CC]\n\t(No symbol) [0x00007FF7C081B823]\n\t(No symbol) [0x00007FF7C07E75E8]\n\t(No symbol) [0x00007FF7C07E8751]\n\tGetHandleVerifier [0x00007FF7C0C947BD+3129501]\n\tGetHandleVerifier [0x00007FF7C0CE4D00+3458528]\n\tGetHandleVerifier [0x00007FF7C0CDB05D+3418429]\n\tGetHandleVerifier [0x00007FF7C0A6687B+844123]\n\t(No symbol) [0x00007FF7C0910AFF]\n\t(No symbol) [0x00007FF7C090C6D4]\n\t(No symbol) [0x00007FF7C090C86D]\n\t(No symbol) [0x00007FF7C08FBD79]\n\tBaseThreadInitThunk [0x00007FFF1EB6257D+29]\n\tRtlUserThreadStart [0x00007FFF1F1CAF08+40]\n"
     ]
    }
   ],
   "source": [
    "action = ActionChains(driver)\n",
    "\n",
    "# Aktuelle Cursor-Position\n",
    "current_x = 0\n",
    "current_y = 0\n",
    "\n",
    "# Funktion zum langsamen Bewegen des \"Cursors\" zwischen zwei Punkten\n",
    "def move_cursor_to(target_element):\n",
    "    global current_x, current_y\n",
    "\n",
    "    # Zielposition des Elements bestimmen\n",
    "    target_location = target_element.location\n",
    "    target_size = target_element.size\n",
    "    target_x = target_location['x'] + target_size['width'] / 2\n",
    "    target_y = target_location['y'] + target_size['height'] / 2\n",
    "\n",
    "    # Rote Punktbewegung simulieren\n",
    "    driver.execute_script(\"window.hideCursor();\")\n",
    "    steps = 20  # Anzahl der Schritte für die Bewegung\n",
    "    for step in range(steps + 1):\n",
    "        # Berechnung der Zwischenposition (Interpolation)\n",
    "        x = current_x + (target_x - current_x) * step / steps\n",
    "        y = current_y + (target_y - current_y) * step / steps\n",
    "\n",
    "        # Cursor-Position aktualisieren\n",
    "        driver.execute_script(f\"document.getElementById('animation-cursor').style.left = '{x}px';\")\n",
    "        driver.execute_script(f\"document.getElementById('animation-cursor').style.top = '{y}px';\")\n",
    "\n",
    "        sleep(0.05)  # Zeit zwischen den Schritten\n",
    "\n",
    "    # Nach dem Bewegen klicken\n",
    "    action.click(target_element).perform()\n",
    "    sleep(0.5)\n",
    "\n",
    "    # Aktualisiere die aktuelle Cursor-Position nach dem Klick\n",
    "    current_x = target_x\n",
    "    current_y = target_y\n",
    "    driver.execute_script(\"window.showCursor();\")\n",
    "\n",
    "# Zuerst auf \"Menü\" klicken, das ein <a>-Element ist\n",
    "menuElement = driver.find_element(By.XPATH, \"//a[contains(text(), 'Menü')]\")\n",
    "move_cursor_to(menuElement)\n",
    "\n",
    "# Menü erneut anklicken, um es wieder einzuklappen\n",
    "move_cursor_to(menuElement)\n",
    "\n",
    "# Dann auf \"Fallsuche\" klicken\n",
    "fallsucheElement = driver.find_element(By.XPATH, \"//label[contains(text(), 'Fallsuche')]\")\n",
    "move_cursor_to(fallsucheElement)\n",
    "\n",
    "# Zuletzt auf \"Übersicht Arzt\" klicken\n",
    "uebersichtArztElement = driver.find_element(By.XPATH, \"//label[contains(text(), 'Übersicht Arzt')]\")\n",
    "move_cursor_to(uebersichtArztElement)\n"
   ]
  }
 ],
 "metadata": {
  "kernelspec": {
   "display_name": "template-generator",
   "language": "python",
   "name": "python3"
  },
  "language_info": {
   "codemirror_mode": {
    "name": "ipython",
    "version": 3
   },
   "file_extension": ".py",
   "mimetype": "text/x-python",
   "name": "python",
   "nbconvert_exporter": "python",
   "pygments_lexer": "ipython3",
   "version": "3.11.9"
  }
 },
 "nbformat": 4,
 "nbformat_minor": 2
}

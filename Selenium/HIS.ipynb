{
 "cells": [
  {
   "cell_type": "markdown",
   "metadata": {},
   "source": [
    "to solve this question https://stackoverflow.com/questions/24612626/b-spline-interpolation-with-python/24693358#24693358"
   ]
  },
  {
   "cell_type": "code",
   "execution_count": 1,
   "metadata": {
    "collapsed": false
   },
   "outputs": [],
   "source": [
    "import os\n",
    "\n",
    "from time import sleep\n",
    "from selenium import webdriver\n",
    "from selenium.webdriver.common.action_chains import ActionChains\n",
    "from selenium.webdriver.chrome.service import Service\n",
    "from selenium.webdriver.common.by import By\n",
    "from selenium.webdriver.support import expected_conditions as EC"
   ]
  },
  {
   "cell_type": "code",
   "execution_count": 3,
   "metadata": {
    "collapsed": false
   },
   "outputs": [],
   "source": [
    "import numpy as np\n",
    "import scipy.interpolate as si"
   ]
  },
  {
   "cell_type": "markdown",
   "metadata": {},
   "source": [
    "b spline interpolation from https://stackoverflow.com/questions/24612626/b-spline-interpolation-with-python"
   ]
  },
  {
   "cell_type": "code",
   "execution_count": 4,
   "metadata": {
    "collapsed": false
   },
   "outputs": [],
   "source": [
    "#curve base\n",
    "points = [[-6, 2], [-3, -2],[0, 0], [0, 2], [2, 3], [4, 0], [6, 3], [8, 5], [8, 8], [6, 8], [5, 9], [7, 2]];\n",
    "points = np.array(points)\n",
    "x = points[:,0]\n",
    "y = points[:,1]\n",
    "\n",
    "\n",
    "t = range(len(points))\n",
    "ipl_t = np.linspace(0.0, len(points) - 1, 100)\n",
    "\n",
    "\n",
    "x_tup = si.splrep(t, x, k=3)\n",
    "y_tup = si.splrep(t, y, k=3)\n",
    "\n",
    "x_list = list(x_tup)\n",
    "xl = x.tolist()\n",
    "x_list[1] = xl + [0.0, 0.0, 0.0, 0.0]\n",
    "\n",
    "y_list = list(y_tup)\n",
    "yl = y.tolist()\n",
    "y_list[1] = yl + [0.0, 0.0, 0.0, 0.0]\n",
    "\n",
    "x_i = si.splev(ipl_t, x_list)\n",
    "y_i = si.splev(ipl_t, y_list)"
   ]
  },
  {
   "cell_type": "code",
   "execution_count": 7,
   "metadata": {},
   "outputs": [],
   "source": [
    "url = \"https://cgm.demo-de.cloud.c3.cgm.ag/cgmg3\"\n",
    "service = Service(executable_path='./chromedriver.exe')\n",
    "options = webdriver.ChromeOptions()\n",
    "driver = webdriver.Chrome(service=service, options=options)\n",
    "driver.get(url)"
   ]
  },
  {
   "cell_type": "code",
   "execution_count": 21,
   "metadata": {
    "collapsed": false
   },
   "outputs": [],
   "source": [
    "from selenium.webdriver.common.by import By\n",
    "from selenium.webdriver.common.action_chains import ActionChains\n",
    "import time\n",
    "\n",
    "driver.execute_script(\"\"\"\n",
    "    document.body.style.cursor = 'pointer';\n",
    "\"\"\")\n",
    "\n",
    "# Füge diesen JavaScript-Code in dein Selenium-Skript ein, bevor die Aktionen ausgeführt werden:\n",
    "driver.execute_script(\"\"\"\n",
    "    var customCursor = document.getElementById('custom-cursor');\n",
    "    if (customCursor) {\n",
    "        customCursor.remove();\n",
    "    }\n",
    "    document.body.style.cursor = 'default';\n",
    "\"\"\")\n",
    "\n",
    "\n",
    "\n",
    "from selenium.webdriver.common.by import By\n",
    "from selenium.webdriver.common.action_chains import ActionChains\n",
    "import time\n",
    "\n",
    "action = ActionChains(driver)\n",
    "\n",
    "# Funktion zum langsamen Bewegen und Klicken\n",
    "def move_and_click(element):\n",
    "    action.move_to_element(element).perform()\n",
    "    time.sleep(0.5)  # Langsame Bewegung vor dem Klick\n",
    "    action.click().perform()\n",
    "    time.sleep(0.5)\n",
    "\n",
    "# Zuerst auf \"Menü\" klicken, das ein <a>-Element ist\n",
    "menuElement = driver.find_element(By.XPATH, \"//a[contains(text(), 'Menü')]\")\n",
    "move_and_click(menuElement)\n",
    "\n",
    "# Menü erneut anklicken, um es wieder einzuklappen\n",
    "move_and_click(menuElement)\n",
    "\n",
    "# Dann auf \"Fallsuche\" klicken\n",
    "fallsucheElement = driver.find_element(By.XPATH, \"//label[contains(text(), 'Fallsuche')]\")\n",
    "move_and_click(fallsucheElement)\n",
    "\n",
    "# Zuletzt auf \"Übersicht Arzt\" klicken\n",
    "uebersichtArztElement = driver.find_element(By.XPATH, \"//label[contains(text(), 'Übersicht Arzt')]\")\n",
    "move_and_click(uebersichtArztElement)\n"
   ]
  }
 ],
 "metadata": {
  "kernelspec": {
   "display_name": "base",
   "language": "python",
   "name": "python3"
  },
  "language_info": {
   "codemirror_mode": {
    "name": "ipython",
    "version": 3
   },
   "file_extension": ".py",
   "mimetype": "text/x-python",
   "name": "python",
   "nbconvert_exporter": "python",
   "pygments_lexer": "ipython3",
   "version": "3.12.6"
  }
 },
 "nbformat": 4,
 "nbformat_minor": 2
}
